{
  "nbformat": 4,
  "nbformat_minor": 0,
  "metadata": {
    "colab": {
      "provenance": [],
      "authorship_tag": "ABX9TyNPWLVjrUHjaZFCNYJP9oif",
      "include_colab_link": true
    },
    "kernelspec": {
      "name": "python3",
      "display_name": "Python 3"
    },
    "language_info": {
      "name": "python"
    }
  },
  "cells": [
    {
      "cell_type": "markdown",
      "metadata": {
        "id": "view-in-github",
        "colab_type": "text"
      },
      "source": [
        "<a href=\"https://colab.research.google.com/github/Venkatesh771/Internpe-Mini-Project/blob/main/Tic_toc.ipynb\" target=\"_parent\"><img src=\"https://colab.research.google.com/assets/colab-badge.svg\" alt=\"Open In Colab\"/></a>"
      ]
    },
    {
      "cell_type": "code",
      "execution_count": null,
      "metadata": {
        "colab": {
          "base_uri": "https://localhost:8080/"
        },
        "id": "bDcw6sue7ZTf",
        "outputId": "cb6ad07b-2be2-4ede-8b75-959829920a9a"
      },
      "outputs": [
        {
          "output_type": "stream",
          "name": "stdout",
          "text": [
            "Player X turn\n",
            "- - -\n",
            "- - -\n",
            "- - -\n",
            "Enter row and column numbers to fix spot: 1 1\n",
            "Player O turn\n",
            "X - -\n",
            "- - -\n",
            "- - -\n",
            "Enter row and column numbers to fix spot: 2 1\n",
            "Player X turn\n",
            "X - -\n",
            "O - -\n",
            "- - -\n",
            "Enter row and column numbers to fix spot: 1 2\n",
            "Player O turn\n",
            "X X -\n",
            "O - -\n",
            "- - -\n",
            "Enter row and column numbers to fix spot: 3 1\n",
            "Player X turn\n",
            "X X -\n",
            "O - -\n",
            "O - -\n",
            "Enter row and column numbers to fix spot: 1 3\n",
            "Player X wins the game!\n",
            "X X X\n",
            "O - -\n",
            "O - -\n"
          ]
        }
      ],
      "source": [
        "import random\n",
        "\n",
        "class TicTacToe:\n",
        "    def __init__(self):\n",
        "        self.board = [['-' for _ in range(3)] for _ in range(3)]\n",
        "    \n",
        "    def create_board(self):\n",
        "        self.board = [['-' for _ in range(3)] for _ in range(3)]\n",
        "    \n",
        "    def get_random_first_player(self):\n",
        "        return random.randint(0, 1)\n",
        "    \n",
        "    def fix_spot(self, row, col, player):\n",
        "        self.board[row][col] = player\n",
        "    \n",
        "    def is_player_win(self, player):\n",
        "        n = len(self.board)\n",
        "        \n",
        "        # checking rows\n",
        "        for i in range(n):\n",
        "            if all(item == player for item in self.board[i]):\n",
        "                return True\n",
        "        \n",
        "        # checking columns\n",
        "        for i in range(n):\n",
        "            if all(self.board[j][i] == player for j in range(n)):\n",
        "                return True\n",
        "        \n",
        "        # checking diagonals\n",
        "        if all(self.board[i][i] == player for i in range(n)):\n",
        "            return True\n",
        "        if all(self.board[i][n - 1 - i] == player for i in range(n)):\n",
        "            return True\n",
        "        \n",
        "        return False\n",
        "    \n",
        "    def is_board_filled(self):\n",
        "        for row in self.board:\n",
        "            if '-' in row:\n",
        "                return False\n",
        "        return True\n",
        "    \n",
        "    def swap_player_turn(self, player):\n",
        "        return 'X' if player == 'O' else 'O'\n",
        "    \n",
        "    def show_board(self):\n",
        "        for row in self.board:\n",
        "            print(' '.join(row))\n",
        "    \n",
        "    def start(self):\n",
        "        self.create_board()\n",
        "        \n",
        "        player = 'X' if self.get_random_first_player() == 1 else 'O'\n",
        "        while True:\n",
        "            print(f\"Player {player} turn\")\n",
        "            \n",
        "            self.show_board()\n",
        "            \n",
        "            # taking user input\n",
        "            row, col = list(map(int, input(\"Enter row and column numbers to fix spot: \").split()))\n",
        "            \n",
        "            # fixing the spot\n",
        "            self.fix_spot(row - 1, col - 1, player)\n",
        "            \n",
        "            # checking whether current player has won or not\n",
        "            if self.is_player_win(player):\n",
        "                print(f\"Player {player} wins the game!\")\n",
        "                break\n",
        "            \n",
        "            # checking whether the game is a draw or not\n",
        "            if self.is_board_filled():\n",
        "                print(\"Match Draw!\")\n",
        "                break\n",
        "            \n",
        "            # swapping the turn\n",
        "            player = self.swap_player_turn(player)\n",
        "        \n",
        "        # showing the final view of the board\n",
        "        self.show_board()\n",
        "\n",
        "# starting the game\n",
        "tic_tac_toe = TicTacToe()\n",
        "tic_tac_toe.start()\n"
      ]
    }
  ]
}